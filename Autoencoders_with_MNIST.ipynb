{
  "nbformat": 4,
  "nbformat_minor": 0,
  "metadata": {
    "colab": {
      "name": "Autoencoders with MNIST.ipynb",
      "provenance": []
    },
    "kernelspec": {
      "name": "python3",
      "display_name": "Python 3"
    },
    "language_info": {
      "name": "python"
    },
    "accelerator": "GPU"
  },
  "cells": [
    {
      "cell_type": "code",
      "execution_count": 1,
      "metadata": {
        "id": "DVepX7qwPNXi"
      },
      "outputs": [],
      "source": [
        "import tensorflow as tf  \n",
        "from tensorflow import keras\n",
        "import cv2\n",
        "import numpy as np\n",
        "import matplotlib.pyplot as plt"
      ]
    },
    {
      "cell_type": "code",
      "source": [
        "(x_train, y_train),(x_test, y_test) = tf.keras.datasets.mnist.load_data()  # loads the popular \"mnist\" training dataset"
      ],
      "metadata": {
        "colab": {
          "base_uri": "https://localhost:8080/"
        },
        "id": "O8GX_MtljnAZ",
        "outputId": "e76fcf94-3f3f-415b-a7b3-ab678103d0ad"
      },
      "execution_count": 2,
      "outputs": [
        {
          "output_type": "stream",
          "name": "stdout",
          "text": [
            "Downloading data from https://storage.googleapis.com/tensorflow/tf-keras-datasets/mnist.npz\n",
            "11493376/11490434 [==============================] - 0s 0us/step\n",
            "11501568/11490434 [==============================] - 0s 0us/step\n"
          ]
        }
      ]
    },
    {
      "cell_type": "code",
      "source": [
        "x_train = x_train/255.0  # scales the data. pixel values range from 0 to 255, so this makes it range 0 to 1\n",
        "x_test = x_test/255.0  # scales the data. pixel values range from 0 to 255, so this makes it range 0 to 1"
      ],
      "metadata": {
        "id": "ipKbc8S-jojU"
      },
      "execution_count": 3,
      "outputs": []
    },
    {
      "cell_type": "code",
      "source": [
        "plt.imshow(x_train[0], cmap=\"gray\")"
      ],
      "metadata": {
        "colab": {
          "base_uri": "https://localhost:8080/",
          "height": 282
        },
        "id": "PSs7WaI3jphA",
        "outputId": "8979658c-16ec-48e9-d9b2-070710e1cf15"
      },
      "execution_count": 4,
      "outputs": [
        {
          "output_type": "execute_result",
          "data": {
            "text/plain": [
              "<matplotlib.image.AxesImage at 0x7f1be67bd510>"
            ]
          },
          "metadata": {},
          "execution_count": 4
        },
        {
          "output_type": "display_data",
          "data": {
            "image/png": "[encoded data removed]",
            "text/plain": [
              "<Figure size 432x288 with 1 Axes>"
            ]
          },
          "metadata": {
            "needs_background": "light"
          }
        }
      ]
    },
    {
      "cell_type": "code",
      "source": [
        "# Shape of an image\n",
        "x_train[0].shape"
      ],
      "metadata": {
        "colab": {
          "base_uri": "https://localhost:8080/"
        },
        "id": "DbTYKPNyjtfC",
        "outputId": "d65763c6-fe58-43cd-88ef-cec5815807b7"
      },
      "execution_count": 5,
      "outputs": [
        {
          "output_type": "execute_result",
          "data": {
            "text/plain": [
              "(28, 28)"
            ]
          },
          "metadata": {},
          "execution_count": 5
        }
      ]
    },
    {
      "cell_type": "code",
      "source": [
        "# Building the Encoder\n",
        "encoder_input = keras.Input(shape=(28, 28, 1), name='img')\n",
        "x = keras.layers.Flatten()(encoder_input)\n",
        "encoder_output = keras.layers.Dense(64, activation=\"relu\")(x)\n",
        "\n",
        "encoder = keras.Model(encoder_input, encoder_output, name='encoder')"
      ],
      "metadata": {
        "id": "_kRC3Iujj3ov"
      },
      "execution_count": 6,
      "outputs": []
    },
    {
      "cell_type": "code",
      "source": [
        "# Building the Decoder\n",
        "decoder_input = keras.layers.Dense(64, activation=\"relu\")(encoder_output)\n",
        "x = keras.layers.Dense(784, activation=\"relu\")(decoder_input)\n",
        "decoder_output = keras.layers.Reshape((28, 28, 1))(x)\n",
        "\n",
        "opt = tf.keras.optimizers.Adam(learning_rate=0.001, decay=1e-6)\n",
        "autoencoder = keras.Model(encoder_input, decoder_output, name='autoencoder')"
      ],
      "metadata": {
        "id": "dkeDEK3wj9Ej"
      },
      "execution_count": 7,
      "outputs": []
    },
    {
      "cell_type": "code",
      "source": [
        "autoencoder.summary()"
      ],
      "metadata": {
        "colab": {
          "base_uri": "https://localhost:8080/"
        },
        "id": "S83bTgcrkLWT",
        "outputId": "75ba1ebf-348b-4181-97bb-5793c0b9c84b"
      },
      "execution_count": 8,
      "outputs": [
        {
          "output_type": "stream",
          "name": "stdout",
          "text": [
            "Model: \"autoencoder\"\n",
            "_________________________________________________________________\n",
            " Layer (type)                Output Shape              Param #   \n",
            "=================================================================\n",
            " img (InputLayer)            [(None, 28, 28, 1)]       0         \n",
            "                                                                 \n",
            " flatten (Flatten)           (None, 784)               0         \n",
            "                                                                 \n",
            " dense (Dense)               (None, 64)                50240     \n",
            "                                                                 \n",
            " dense_1 (Dense)             (None, 64)                4160      \n",
            "                                                                 \n",
            " dense_2 (Dense)             (None, 784)               50960     \n",
            "                                                                 \n",
            " reshape (Reshape)           (None, 28, 28, 1)         0         \n",
            "                                                                 \n",
            "=================================================================\n",
            "Total params: 105,360\n",
            "Trainable params: 105,360\n",
            "Non-trainable params: 0\n",
            "_________________________________________________________________\n"
          ]
        }
      ]
    },
    {
      "cell_type": "code",
      "source": [
        "autoencoder.compile(opt, loss='mse')"
      ],
      "metadata": {
        "id": "VbN8jAKvkL9d"
      },
      "execution_count": 9,
      "outputs": []
    },
    {
      "cell_type": "code",
      "source": [
        "# Training the Model\n",
        "autoencoder.fit(x_train,\n",
        "                x_train,\n",
        "                epochs=20, \n",
        "                batch_size=32,\n",
        "                validation_split=0.10)\n",
        "   \n",
        "# Saving the model\n",
        "autoencoder.save(f\"models/autoencoder.h5\")"
      ],
      "metadata": {
        "colab": {
          "base_uri": "https://localhost:8080/"
        },
        "id": "lbt7gt3-kQsf",
        "outputId": "f24533ba-2b5d-4b45-d172-7ed07ca6e1fa"
      },
      "execution_count": 10,
      "outputs": [
        {
          "output_type": "stream",
          "name": "stdout",
          "text": [
            "Epoch 1/20\n",
            "1688/1688 [==============================] - 9s 4ms/step - loss: 0.0222 - val_loss: 0.0162\n",
            "Epoch 2/20\n",
            "1688/1688 [==============================] - 7s 4ms/step - loss: 0.0153 - val_loss: 0.0146\n",
            "Epoch 3/20\n",
            "1688/1688 [==============================] - 6s 4ms/step - loss: 0.0143 - val_loss: 0.0141\n",
            "Epoch 4/20\n",
            "1688/1688 [==============================] - 7s 4ms/step - loss: 0.0139 - val_loss: 0.0138\n",
            "Epoch 5/20\n",
            "1688/1688 [==============================] - 6s 4ms/step - loss: 0.0137 - val_loss: 0.0137\n",
            "Epoch 6/20\n",
            "1688/1688 [==============================] - 6s 4ms/step - loss: 0.0136 - val_loss: 0.0135\n",
            "Epoch 7/20\n",
            "1688/1688 [==============================] - 7s 4ms/step - loss: 0.0135 - val_loss: 0.0136\n",
            "Epoch 8/20\n",
            "1688/1688 [==============================] - 6s 4ms/step - loss: 0.0133 - val_loss: 0.0133\n",
            "Epoch 9/20\n",
            "1688/1688 [==============================] - 7s 4ms/step - loss: 0.0132 - val_loss: 0.0132\n",
            "Epoch 10/20\n",
            "1688/1688 [==============================] - 6s 4ms/step - loss: 0.0131 - val_loss: 0.0131\n",
            "Epoch 11/20\n",
            "1688/1688 [==============================] - 6s 4ms/step - loss: 0.0130 - val_loss: 0.0131\n",
            "Epoch 12/20\n",
            "1688/1688 [==============================] - 6s 4ms/step - loss: 0.0130 - val_loss: 0.0131\n",
            "Epoch 13/20\n",
            "1688/1688 [==============================] - 6s 4ms/step - loss: 0.0130 - val_loss: 0.0130\n",
            "Epoch 14/20\n",
            "1688/1688 [==============================] - 6s 4ms/step - loss: 0.0130 - val_loss: 0.0131\n",
            "Epoch 15/20\n",
            "1688/1688 [==============================] - 6s 4ms/step - loss: 0.0130 - val_loss: 0.0130\n",
            "Epoch 16/20\n",
            "1688/1688 [==============================] - 6s 4ms/step - loss: 0.0130 - val_loss: 0.0130\n",
            "Epoch 17/20\n",
            "1688/1688 [==============================] - 6s 4ms/step - loss: 0.0129 - val_loss: 0.0130\n",
            "Epoch 18/20\n",
            "1688/1688 [==============================] - 6s 4ms/step - loss: 0.0129 - val_loss: 0.0130\n",
            "Epoch 19/20\n",
            "1688/1688 [==============================] - 7s 4ms/step - loss: 0.0129 - val_loss: 0.0130\n",
            "Epoch 20/20\n",
            "1688/1688 [==============================] - 6s 4ms/step - loss: 0.0129 - val_loss: 0.0130\n"
          ]
        }
      ]
    },
    {
      "cell_type": "code",
      "source": [
        "example = encoder.predict([ x_test[3].reshape(-1, 28, 28, 1) ])\n",
        "\n",
        "print(example[0].shape)\n",
        "print(example[0])"
      ],
      "metadata": {
        "colab": {
          "base_uri": "https://localhost:8080/"
        },
        "id": "1JfP5hUYkU2h",
        "outputId": "7acb4309-cf08-4d2b-9037-5cb065472f5d"
      },
      "execution_count": 25,
      "outputs": [
        {
          "output_type": "stream",
          "name": "stdout",
          "text": [
            "(64,)\n",
            "[3.8522322  1.517976   0.         0.         1.7333379  0.\n",
            " 2.6545885  0.8220421  1.3247615  0.56739354 2.2457945  2.2422178\n",
            " 1.9194373  3.4339879  2.1101625  2.1639762  0.41952163 1.9346774\n",
            " 1.7780559  1.3124939  0.65128255 1.0879335  1.9545715  2.2997541\n",
            " 2.4178839  2.0323508  3.246307   2.338126   2.2749398  2.3009639\n",
            " 2.095011   0.         2.885504   2.1090271  3.5080578  1.8993765\n",
            " 0.9952933  1.5554262  2.030301   1.1667329  2.389685   0.9267409\n",
            " 2.6617908  1.0491018  2.1096208  1.6914916  2.657433   0.\n",
            " 1.0971773  2.972157   0.0065546  1.7704887  2.1987     2.4680145\n",
            " 1.676275   2.7085323  2.305719   2.7918315  1.8262589  2.0829182\n",
            " 1.3049976  2.1649532  1.6089449  1.71086   ]\n"
          ]
        }
      ]
    },
    {
      "cell_type": "code",
      "source": [
        "plt.imshow(example.reshape ((8,8)), cmap=\"gray\")"
      ],
      "metadata": {
        "colab": {
          "base_uri": "https://localhost:8080/",
          "height": 282
        },
        "id": "iJESJcy-tjP9",
        "outputId": "e25df21a-e5e2-4094-fca3-7049e42c9032"
      },
      "execution_count": 29,
      "outputs": [
        {
          "output_type": "execute_result",
          "data": {
            "text/plain": [
              "<matplotlib.image.AxesImage at 0x7f1b6c8f8510>"
            ]
          },
          "metadata": {},
          "execution_count": 29
        },
        {
          "output_type": "display_data",
          "data": {
            "image/png": "[encoded data removed]",
            "text/plain": [
              "<Figure size 432x288 with 1 Axes>"
            ]
          },
          "metadata": {
            "needs_background": "light"
          }
        }
      ]
    },
    {
      "cell_type": "code",
      "source": [
        "# Original Image\n",
        "\n",
        "plt.imshow(x_test[0], cmap=\"gray\")"
      ],
      "metadata": {
        "colab": {
          "base_uri": "https://localhost:8080/",
          "height": 282
        },
        "id": "p7nsCVlxkjHv",
        "outputId": "cadb350c-f567-4aa8-f41b-ea5f76e90a58"
      },
      "execution_count": 30,
      "outputs": [
        {
          "output_type": "execute_result",
          "data": {
            "text/plain": [
              "<matplotlib.image.AxesImage at 0x7f1b6c85c6d0>"
            ]
          },
          "metadata": {},
          "execution_count": 30
        },
        {
          "output_type": "display_data",
          "data": {
            "image/png": "[encoded data removed]",
            "text/plain": [
              "<Figure size 432x288 with 1 Axes>"
            ]
          },
          "metadata": {
            "needs_background": "light"
          }
        }
      ]
    },
    {
      "cell_type": "code",
      "source": [
        "# Output generated Image\n",
        "\n",
        "ae_out = autoencoder.predict([x_test[0].reshape(-1, 28, 28, 1) ])[0]\n",
        "img = ae_out[:,:,0]  # predict is done on a vector, and returns a vector, even if its just 1 element, so we still need to grab the 0th\n",
        "plt.imshow(img, cmap=\"gray\")"
      ],
      "metadata": {
        "colab": {
          "base_uri": "https://localhost:8080/",
          "height": 282
        },
        "id": "aeURTFr5knGn",
        "outputId": "9dea6d24-6521-42e2-802f-0129e43df149"
      },
      "execution_count": 31,
      "outputs": [
        {
          "output_type": "execute_result",
          "data": {
            "text/plain": [
              "<matplotlib.image.AxesImage at 0x7f1b6c7e1890>"
            ]
          },
          "metadata": {},
          "execution_count": 31
        },
        {
          "output_type": "display_data",
          "data": {
            "image/png": "[encoded data removed]",
            "text/plain": [
              "<Figure size 432x288 with 1 Axes>"
            ]
          },
          "metadata": {
            "needs_background": "light"
          }
        }
      ]
    },
    {
      "cell_type": "code",
      "source": [
        "import random\n",
        "\n",
        "def add_noise(img, random_chance=5):\n",
        "    noisy = []\n",
        "    for row in img:\n",
        "        new_row = []\n",
        "        for pix in row:\n",
        "            if random.choice(range(100)) <= random_chance: \n",
        "                new_val = random.uniform(0, 1)\n",
        "                new_row.append(new_val)\n",
        "            else:\n",
        "                new_row.append(pix)\n",
        "        noisy.append(new_row)\n",
        "    return np.array(noisy)"
      ],
      "metadata": {
        "id": "bzCIO_tmlMSk"
      },
      "execution_count": 32,
      "outputs": []
    },
    {
      "cell_type": "code",
      "source": [
        "# Adding Noise to an image\n",
        "noisy = add_noise(x_train[4])\n",
        "plt.imshow(noisy, cmap=\"gray\")"
      ],
      "metadata": {
        "colab": {
          "base_uri": "https://localhost:8080/",
          "height": 282
        },
        "id": "C2BvYXVZvpRj",
        "outputId": "b1dd5ef2-efd6-4b98-c3f3-9e518e0fec0a"
      },
      "execution_count": 38,
      "outputs": [
        {
          "output_type": "execute_result",
          "data": {
            "text/plain": [
              "<matplotlib.image.AxesImage at 0x7f1b694e7550>"
            ]
          },
          "metadata": {},
          "execution_count": 38
        },
        {
          "output_type": "display_data",
          "data": {
            "image/png": "[encoded data removed]",
            "text/plain": [
              "<Figure size 432x288 with 1 Axes>"
            ]
          },
          "metadata": {
            "needs_background": "light"
          }
        }
      ]
    },
    {
      "cell_type": "code",
      "source": [
        "# Testing the autoencoder model to reduce noise\n",
        "ae_out = autoencoder.predict([noisy.reshape(-1, 28, 28, 1) ])[0]\n",
        "img = ae_out[:,:,0]\n",
        "plt.imshow(img, cmap=\"gray\")"
      ],
      "metadata": {
        "colab": {
          "base_uri": "https://localhost:8080/",
          "height": 282
        },
        "id": "dIc46EPQvrl_",
        "outputId": "a7c87a67-46c9-4d5e-a314-b6a5a96f186a"
      },
      "execution_count": 40,
      "outputs": [
        {
          "output_type": "execute_result",
          "data": {
            "text/plain": [
              "<matplotlib.image.AxesImage at 0x7f1b6939e6d0>"
            ]
          },
          "metadata": {},
          "execution_count": 40
        },
        {
          "output_type": "display_data",
          "data": {
            "image/png": "[encoded data removed]",
            "text/plain": [
              "<Figure size 432x288 with 1 Axes>"
            ]
          },
          "metadata": {
            "needs_background": "light"
          }
        }
      ]
    }
  ]
}